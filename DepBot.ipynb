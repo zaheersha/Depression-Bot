{
  "cells": [
    {
      "cell_type": "code",
      "execution_count": 40,
      "metadata": {
        "id": "hedFx24YAhUe"
      },
      "outputs": [],
      "source": [
        "import numpy as np\n",
        "import nltk\n",
        "import string\n",
        "import random\n",
        "import warnings\n",
        "warnings.filterwarnings('ignore')"
      ]
    },
    {
      "cell_type": "code",
      "execution_count": 41,
      "metadata": {
        "id": "DZCdDQN2Akqf"
      },
      "outputs": [],
      "source": [
        "f = open('/content/data.txt','r',errors='ignore')\n",
        "dataset = f.read()"
      ]
    },
    {
      "cell_type": "code",
      "execution_count": 42,
      "metadata": {
        "colab": {
          "base_uri": "https://localhost:8080/",
          "height": 120
        },
        "id": "zc7bogoIGsJp",
        "outputId": "2aa90757-dbb9-492a-99ec-e7f7b11a2872"
      },
      "outputs": [
        {
          "output_type": "execute_result",
          "data": {
            "text/plain": [
              "'Depression is a common mental disorder, globally, it is estimated that 5% of adults suffer from the disorder, \\nIt is characterized by persistent sadness and a lack of interest or pleasure in previously rewarding or enjoyable activities.\\n\\nImpaired control, social problems such as being unable to concentrate in school or work because of the addiction, \\nmaking excuses or lying in order to continue with activity, engaging in risky behaviour in order to continue with activity \\n(such as borrowing large sums of money to gamble) are some signs of depression.\\n\\nAnxiety is a common emotion when dealing with daily stresses and problems. But when these emotions are persistent, excessive and \\nirrational, and affect a person’s ability to function, anxiety becomes a disorder. There are different types of anxiety disorders, \\nincluding phobias, panic and stress disorders, and obsessive compulsive disorder. \\n\\nBipolar disorder, formerly referred to as manic depressive illness, is a mood disorder with two extremes: depressed (“low”) \\nand manic (“high”). It varies in severity, and mild cases may appear ordinary for many years. Symptoms vary; a person may be \\npredominantly depressed, or predominantly manic. In between episodes, a person is likely to be quite well and able to function.\\n\\nSymptoms of Biplor Disorder are When depressed, a person feels persistently sad, hopeless and lethargic, and may feel suicidal, \\namong other symptoms. When manic, a person becomes overly elated, more irritable, requires less sleep, makes grand plans and may \\nimpulsively engage in potentially dangerous behaviour. \\n\\nTreatment are like to get in a routine, set goals, exercise, eat healthy, get enough sleep etc.\\n\\nMain Causes of Depression are Abuse, age, certain medications, conflict, death or a loss, gender, genes, major events, serious illness, \\nother personal problems etc.'"
            ],
            "application/vnd.google.colaboratory.intrinsic+json": {
              "type": "string"
            }
          },
          "metadata": {},
          "execution_count": 42
        }
      ],
      "source": [
        "dataset"
      ]
    },
    {
      "cell_type": "code",
      "execution_count": 43,
      "metadata": {
        "colab": {
          "base_uri": "https://localhost:8080/"
        },
        "id": "aTXt9e04G2y-",
        "outputId": "af96818e-ef0c-4f57-e9f6-bf8c741d26b1"
      },
      "outputs": [
        {
          "output_type": "stream",
          "name": "stderr",
          "text": [
            "[nltk_data] Downloading package punkt to /root/nltk_data...\n",
            "[nltk_data]   Package punkt is already up-to-date!\n",
            "[nltk_data] Downloading package wordnet to /root/nltk_data...\n",
            "[nltk_data]   Package wordnet is already up-to-date!\n",
            "[nltk_data] Downloading package omw-1.4 to /root/nltk_data...\n",
            "[nltk_data]   Package omw-1.4 is already up-to-date!\n"
          ]
        },
        {
          "output_type": "execute_result",
          "data": {
            "text/plain": [
              "True"
            ]
          },
          "metadata": {},
          "execution_count": 43
        }
      ],
      "source": [
        "dataset = dataset.lower()\n",
        "nltk.download('punkt')\n",
        "nltk.download('wordnet')\n",
        "nltk.download('omw-1.4')"
      ]
    },
    {
      "cell_type": "code",
      "execution_count": 44,
      "metadata": {
        "id": "Ly7qCI3wyjXj"
      },
      "outputs": [],
      "source": [
        "sentence_tokens = nltk.sent_tokenize(dataset)\n",
        "word_tokens = nltk.word_tokenize(dataset)"
      ]
    },
    {
      "cell_type": "code",
      "execution_count": 45,
      "metadata": {
        "colab": {
          "base_uri": "https://localhost:8080/",
          "height": 120
        },
        "id": "KtAPI6gjHR01",
        "outputId": "85ca94f3-47d7-4462-af7e-95e4b3b2bc66"
      },
      "outputs": [
        {
          "output_type": "execute_result",
          "data": {
            "text/plain": [
              "'depression is a common mental disorder, globally, it is estimated that 5% of adults suffer from the disorder, \\nit is characterized by persistent sadness and a lack of interest or pleasure in previously rewarding or enjoyable activities.\\n\\nimpaired control, social problems such as being unable to concentrate in school or work because of the addiction, \\nmaking excuses or lying in order to continue with activity, engaging in risky behaviour in order to continue with activity \\n(such as borrowing large sums of money to gamble) are some signs of depression.\\n\\nanxiety is a common emotion when dealing with daily stresses and problems. but when these emotions are persistent, excessive and \\nirrational, and affect a person’s ability to function, anxiety becomes a disorder. there are different types of anxiety disorders, \\nincluding phobias, panic and stress disorders, and obsessive compulsive disorder. \\n\\nbipolar disorder, formerly referred to as manic depressive illness, is a mood disorder with two extremes: depressed (“low”) \\nand manic (“high”). it varies in severity, and mild cases may appear ordinary for many years. symptoms vary; a person may be \\npredominantly depressed, or predominantly manic. in between episodes, a person is likely to be quite well and able to function.\\n\\nsymptoms of biplor disorder are when depressed, a person feels persistently sad, hopeless and lethargic, and may feel suicidal, \\namong other symptoms. when manic, a person becomes overly elated, more irritable, requires less sleep, makes grand plans and may \\nimpulsively engage in potentially dangerous behaviour. \\n\\ntreatment are like to get in a routine, set goals, exercise, eat healthy, get enough sleep etc.\\n\\nmain causes of depression are abuse, age, certain medications, conflict, death or a loss, gender, genes, major events, serious illness, \\nother personal problems etc.'"
            ],
            "application/vnd.google.colaboratory.intrinsic+json": {
              "type": "string"
            }
          },
          "metadata": {},
          "execution_count": 45
        }
      ],
      "source": [
        "dataset"
      ]
    },
    {
      "cell_type": "code",
      "execution_count": 46,
      "metadata": {
        "id": "gqg2fwQAIlo5"
      },
      "outputs": [],
      "source": [
        "lemmer = nltk.stem.WordNetLemmatizer()\n",
        "\n",
        "def LemTokens(tokens):\n",
        "  return [lemmer.lemmatize(token) for token in tokens]\n",
        "\n",
        "remove_punc_dict = dict((ord(punct),None) for punct in string.punctuation)\n",
        "\n",
        "def LemNormalize(text):\n",
        "  return LemTokens(nltk.word_tokenize(text.lower().translate(remove_punc_dict)))"
      ]
    },
    {
      "cell_type": "code",
      "execution_count": 47,
      "metadata": {
        "id": "qk_LufunIpKN"
      },
      "outputs": [],
      "source": [
        "greet_inputs = ('hello','hi','whassup','how are you ?')\n",
        "greet_responses = ('hi','Hey', 'Hey There!', 'There there!!')\n",
        "\n",
        "def greet(sentence):\n",
        "  for word in sentence.split():\n",
        "    if word.lower() in greet_inputs:\n",
        "      return random.choice(greet_responses)"
      ]
    },
    {
      "cell_type": "code",
      "execution_count": 48,
      "metadata": {
        "id": "48gQcm_dML8o"
      },
      "outputs": [],
      "source": [
        "from sklearn.feature_extraction.text import TfidfVectorizer\n",
        "from sklearn.metrics.pairwise import cosine_similarity"
      ]
    },
    {
      "cell_type": "code",
      "execution_count": 49,
      "metadata": {
        "id": "Cvvl4DxR4nUR"
      },
      "outputs": [],
      "source": [
        "def response(user_response):\n",
        "  robo1_response = ''\n",
        "  TfidfVec = TfidfVectorizer(tokenizer=LemNormalize, stop_words='english')\n",
        "  tfidf = TfidfVec.fit_transform(sentence_tokens[:])\n",
        "  vals = cosine_similarity(tfidf[-1].toarray(), tfidf.toarray())\n",
        "  idx = vals.argsort()[0][-2]\n",
        "  flat = vals.flatten()\n",
        "  flat.sort()\n",
        "  req_tfidf = flat[-2]\n",
        "  if req_tfidf == 0:\n",
        "    robo1_response = robo1_response + \"I am sorry. I am unable to understand you.\"\n",
        "    return robo1_response\n",
        "  else:\n",
        "    robo1_response = robo1_response + sentence_tokens[idx]\n",
        "    return robo1_response\n"
      ]
    },
    {
      "cell_type": "code",
      "execution_count": 50,
      "metadata": {
        "colab": {
          "base_uri": "https://localhost:8080/"
        },
        "id": "3nrkcMPVPF6m",
        "outputId": "7bcf6874-07c6-47a4-93ae-c2f13c3db5b8"
      },
      "outputs": [
        {
          "output_type": "stream",
          "name": "stdout",
          "text": [
            "Hey There! I am DepBot over here to answer your most common questions regarding Depression.\n",
            "\n",
            "\n",
            "hi\n",
            "Bot: Hey There!\n",
            "\n",
            "\n",
            "mental health disorder\n",
            "Bot: \n",
            "\n",
            "depression is a common mental disorder, globally, it is estimated that 5% of adults suffer from the disorder, \n",
            "it is characterized by persistent sadness and a lack of interest or pleasure in previously rewarding or enjoyable activities.\n",
            "\n",
            "\n",
            "causes\n",
            "Bot: \n",
            "\n",
            "main causes of depression are abuse, age, certain medications, conflict, death or a loss, gender, genes, major events, serious illness, \n",
            "other personal problems etc.\n",
            "\n",
            "\n",
            "anxiety\n",
            "Bot: \n",
            "\n",
            "anxiety is a common emotion when dealing with daily stresses and problems.\n",
            "\n",
            "\n",
            "symptoms\n",
            "Bot: \n",
            "\n",
            "symptoms of biplor disorder are when depressed, a person feels persistently sad, hopeless and lethargic, and may feel suicidal, \n",
            "among other symptoms.\n",
            "\n",
            "\n",
            "treatment\n",
            "Bot: \n",
            "\n",
            "treatment are like to get in a routine, set goals, exercise, eat healthy, get enough sleep etc.\n",
            "\n",
            "\n",
            "main causes\n",
            "Bot: \n",
            "\n",
            "main causes of depression are abuse, age, certain medications, conflict, death or a loss, gender, genes, major events, serious illness, \n",
            "other personal problems etc.\n",
            "\n",
            "\n",
            "bye\n",
            "Bot: Goodbye!\n"
          ]
        }
      ],
      "source": [
        "flag = True\n",
        "print('Hey There! I am DepBot over here to answer your most common questions regarding Depression.')\n",
        "print('\\n')\n",
        "while flag:\n",
        "  user_response = input().lower()\n",
        "  if user_response != 'bye':\n",
        "    if user_response in ['thank you', 'thanks']:\n",
        "      flag = False\n",
        "      print('Bot: You are welcome.')\n",
        "      print('\\n')\n",
        "    else:\n",
        "      if greet(user_response):\n",
        "        print('Bot:', greet(user_response))\n",
        "        print('\\n')\n",
        "      else:\n",
        "        sentence_tokens.append(user_response)\n",
        "        word_tokens = word_tokens + nltk.word_tokenize(user_response)\n",
        "        final_words = list(set(word_tokens))\n",
        "        print('Bot: ', end='')\n",
        "        print('\\n')\n",
        "        print(response(user_response.split()))\n",
        "        print('\\n')\n",
        "        sentence_tokens.remove(user_response)\n",
        "  else:\n",
        "    flag = False\n",
        "    print(\"Bot: Goodbye!\")"
      ]
    },
    {
      "cell_type": "code",
      "execution_count": 39,
      "metadata": {
        "id": "d8XEvnoDQqJB"
      },
      "outputs": [],
      "source": []
    }
  ],
  "metadata": {
    "colab": {
      "provenance": []
    },
    "kernelspec": {
      "display_name": "Python 3",
      "name": "python3"
    },
    "language_info": {
      "name": "python"
    }
  },
  "nbformat": 4,
  "nbformat_minor": 0
}